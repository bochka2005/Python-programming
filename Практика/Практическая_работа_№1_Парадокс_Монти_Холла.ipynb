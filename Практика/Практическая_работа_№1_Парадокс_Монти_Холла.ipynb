{
  "nbformat": 4,
  "nbformat_minor": 0,
  "metadata": {
    "colab": {
      "provenance": [],
      "include_colab_link": true
    },
    "kernelspec": {
      "name": "python3",
      "display_name": "Python 3"
    },
    "language_info": {
      "name": "python"
    }
  },
  "cells": [
    {
      "cell_type": "markdown",
      "metadata": {
        "id": "view-in-github",
        "colab_type": "text"
      },
      "source": [
        "<a href=\"https://colab.research.google.com/github/bochka2005/Python-programming/blob/main/%D0%9F%D1%80%D0%B0%D0%BA%D1%82%D0%B8%D0%BA%D0%B0/%D0%9F%D1%80%D0%B0%D0%BA%D1%82%D0%B8%D1%87%D0%B5%D1%81%D0%BA%D0%B0%D1%8F_%D1%80%D0%B0%D0%B1%D0%BE%D1%82%D0%B0_%E2%84%961_%D0%9F%D0%B0%D1%80%D0%B0%D0%B4%D0%BE%D0%BA%D1%81_%D0%9C%D0%BE%D0%BD%D1%82%D0%B8_%D0%A5%D0%BE%D0%BB%D0%BB%D0%B0.ipynb\" target=\"_parent\"><img src=\"https://colab.research.google.com/assets/colab-badge.svg\" alt=\"Open In Colab\"/></a>"
      ]
    },
    {
      "cell_type": "markdown",
      "source": [
        "\n",
        "\n",
        "```python\n",
        "import random\n",
        "iterations = int(input(\"Введите количество игр: \"))\n",
        "def monty_hall(iterations):\n",
        "    wins_change = 0\n",
        "    wins_stay = 0\n",
        "    \n",
        "    for _ in range(iterations):\n",
        "        # Три двери: две пустые (0) и одна с призом (1)\n",
        "        doors = [0, 0, 1]\n",
        "        random.shuffle(doors)\n",
        "\n",
        "        # Игрок выбирает дверь (0, 1 или 2)\n",
        "        player_choice = random.choice(doors)\n",
        "        \n",
        "        # Ведущий открывает одну пустую дверь (не выбранную игроком)\n",
        "        opened_door = 0\n",
        "        for i in range(3):\n",
        "            if i != player_choice and doors[i] == 0:\n",
        "                opened_door = i\n",
        "                break\n",
        "        \n",
        "        # Игрок меняет выбор на оставшуюся дверь\n",
        "        new_choice = 0\n",
        "        for i in range(3):\n",
        "            if i != player_choice and i != opened_door:\n",
        "                new_choice = i\n",
        "                break\n",
        "        \n",
        "        # Проверяем результаты\n",
        "        if doors[player_choice] == 1:\n",
        "            wins_stay += 1\n",
        "        if doors[new_choice] == 1:\n",
        "            wins_change += 1\n",
        "    \n",
        "    print(f\"Побед при смене выбора: {wins_change} ({wins_change/iterations*100:.1f}%)\")\n",
        "    print(f\"Побед без смены выбора: {wins_stay} ({wins_stay/iterations*100:.1f}%)\")\n",
        "    \n",
        "monty_hall(iterations)\n",
        "```"
      ],
      "metadata": {
        "id": "aJLIZnf4DxGA"
      }
    }
  ]
}